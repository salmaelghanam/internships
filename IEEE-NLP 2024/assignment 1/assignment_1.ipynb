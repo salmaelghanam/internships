{
  "cells": [
    {
      "cell_type": "code",
      "execution_count": 1,
      "id": "a093e187-d787-46da-a74e-7f5ad80a0761",
      "metadata": {
        "colab": {
          "base_uri": "https://localhost:8080/"
        },
        "id": "a093e187-d787-46da-a74e-7f5ad80a0761",
        "outputId": "9a2b8f91-53ad-445b-8c12-66cb023818ad"
      },
      "outputs": [
        {
          "output_type": "stream",
          "name": "stdout",
          "text": [
            "Requirement already satisfied: spacy in /usr/local/lib/python3.10/dist-packages (3.7.5)\n",
            "Collecting camel-tools\n",
            "  Downloading camel_tools-1.5.5-py3-none-any.whl.metadata (10 kB)\n",
            "Requirement already satisfied: spacy-legacy<3.1.0,>=3.0.11 in /usr/local/lib/python3.10/dist-packages (from spacy) (3.0.12)\n",
            "Requirement already satisfied: spacy-loggers<2.0.0,>=1.0.0 in /usr/local/lib/python3.10/dist-packages (from spacy) (1.0.5)\n",
            "Requirement already satisfied: murmurhash<1.1.0,>=0.28.0 in /usr/local/lib/python3.10/dist-packages (from spacy) (1.0.10)\n",
            "Requirement already satisfied: cymem<2.1.0,>=2.0.2 in /usr/local/lib/python3.10/dist-packages (from spacy) (2.0.8)\n",
            "Requirement already satisfied: preshed<3.1.0,>=3.0.2 in /usr/local/lib/python3.10/dist-packages (from spacy) (3.0.9)\n",
            "Requirement already satisfied: thinc<8.3.0,>=8.2.2 in /usr/local/lib/python3.10/dist-packages (from spacy) (8.2.5)\n",
            "Requirement already satisfied: wasabi<1.2.0,>=0.9.1 in /usr/local/lib/python3.10/dist-packages (from spacy) (1.1.3)\n",
            "Requirement already satisfied: srsly<3.0.0,>=2.4.3 in /usr/local/lib/python3.10/dist-packages (from spacy) (2.4.8)\n",
            "Requirement already satisfied: catalogue<2.1.0,>=2.0.6 in /usr/local/lib/python3.10/dist-packages (from spacy) (2.0.10)\n",
            "Requirement already satisfied: weasel<0.5.0,>=0.1.0 in /usr/local/lib/python3.10/dist-packages (from spacy) (0.4.1)\n",
            "Requirement already satisfied: typer<1.0.0,>=0.3.0 in /usr/local/lib/python3.10/dist-packages (from spacy) (0.13.0)\n",
            "Requirement already satisfied: tqdm<5.0.0,>=4.38.0 in /usr/local/lib/python3.10/dist-packages (from spacy) (4.66.6)\n",
            "Requirement already satisfied: requests<3.0.0,>=2.13.0 in /usr/local/lib/python3.10/dist-packages (from spacy) (2.32.3)\n",
            "Requirement already satisfied: pydantic!=1.8,!=1.8.1,<3.0.0,>=1.7.4 in /usr/local/lib/python3.10/dist-packages (from spacy) (2.9.2)\n",
            "Requirement already satisfied: jinja2 in /usr/local/lib/python3.10/dist-packages (from spacy) (3.1.4)\n",
            "Requirement already satisfied: setuptools in /usr/local/lib/python3.10/dist-packages (from spacy) (75.1.0)\n",
            "Requirement already satisfied: packaging>=20.0 in /usr/local/lib/python3.10/dist-packages (from spacy) (24.2)\n",
            "Requirement already satisfied: langcodes<4.0.0,>=3.2.0 in /usr/local/lib/python3.10/dist-packages (from spacy) (3.4.1)\n",
            "Requirement already satisfied: numpy>=1.19.0 in /usr/local/lib/python3.10/dist-packages (from spacy) (1.26.4)\n",
            "Requirement already satisfied: future in /usr/local/lib/python3.10/dist-packages (from camel-tools) (1.0.0)\n",
            "Requirement already satisfied: six in /usr/local/lib/python3.10/dist-packages (from camel-tools) (1.16.0)\n",
            "Collecting docopt (from camel-tools)\n",
            "  Downloading docopt-0.6.2.tar.gz (25 kB)\n",
            "  Preparing metadata (setup.py) ... \u001b[?25l\u001b[?25hdone\n",
            "Requirement already satisfied: cachetools in /usr/local/lib/python3.10/dist-packages (from camel-tools) (5.5.0)\n",
            "Requirement already satisfied: scipy in /usr/local/lib/python3.10/dist-packages (from camel-tools) (1.13.1)\n",
            "Requirement already satisfied: pandas in /usr/local/lib/python3.10/dist-packages (from camel-tools) (2.2.2)\n",
            "Requirement already satisfied: scikit-learn in /usr/local/lib/python3.10/dist-packages (from camel-tools) (1.5.2)\n",
            "Collecting dill (from camel-tools)\n",
            "  Downloading dill-0.3.9-py3-none-any.whl.metadata (10 kB)\n",
            "Requirement already satisfied: torch>=2.0 in /usr/local/lib/python3.10/dist-packages (from camel-tools) (2.5.1+cu121)\n",
            "Collecting transformers<4.44.0,>=4.0 (from camel-tools)\n",
            "  Downloading transformers-4.43.4-py3-none-any.whl.metadata (43 kB)\n",
            "\u001b[2K     \u001b[90m━━━━━━━━━━━━━━━━━━━━━━━━━━━━━━━━━━━━━━━━\u001b[0m \u001b[32m43.7/43.7 kB\u001b[0m \u001b[31m2.0 MB/s\u001b[0m eta \u001b[36m0:00:00\u001b[0m\n",
            "\u001b[?25hRequirement already satisfied: editdistance in /usr/local/lib/python3.10/dist-packages (from camel-tools) (0.8.1)\n",
            "Collecting emoji (from camel-tools)\n",
            "  Downloading emoji-2.14.0-py3-none-any.whl.metadata (5.7 kB)\n",
            "Collecting pyrsistent (from camel-tools)\n",
            "  Downloading pyrsistent-0.20.0-cp310-cp310-manylinux_2_17_x86_64.manylinux2014_x86_64.whl.metadata (27 kB)\n",
            "Requirement already satisfied: tabulate in /usr/local/lib/python3.10/dist-packages (from camel-tools) (0.9.0)\n",
            "Collecting muddler (from camel-tools)\n",
            "  Downloading muddler-0.1.3-py3-none-any.whl.metadata (7.5 kB)\n",
            "Collecting camel-kenlm>=2024.5.6 (from camel-tools)\n",
            "  Downloading camel-kenlm-2024.5.6.zip (556 kB)\n",
            "\u001b[2K     \u001b[90m━━━━━━━━━━━━━━━━━━━━━━━━━━━━━━━━━━━━━━━━\u001b[0m \u001b[32m556.4/556.4 kB\u001b[0m \u001b[31m10.1 MB/s\u001b[0m eta \u001b[36m0:00:00\u001b[0m\n",
            "\u001b[?25h  Installing build dependencies ... \u001b[?25l\u001b[?25hdone\n",
            "  Getting requirements to build wheel ... \u001b[?25l\u001b[?25hdone\n",
            "  Preparing metadata (pyproject.toml) ... \u001b[?25l\u001b[?25hdone\n",
            "Requirement already satisfied: language-data>=1.2 in /usr/local/lib/python3.10/dist-packages (from langcodes<4.0.0,>=3.2.0->spacy) (1.2.0)\n",
            "Requirement already satisfied: annotated-types>=0.6.0 in /usr/local/lib/python3.10/dist-packages (from pydantic!=1.8,!=1.8.1,<3.0.0,>=1.7.4->spacy) (0.7.0)\n",
            "Requirement already satisfied: pydantic-core==2.23.4 in /usr/local/lib/python3.10/dist-packages (from pydantic!=1.8,!=1.8.1,<3.0.0,>=1.7.4->spacy) (2.23.4)\n",
            "Requirement already satisfied: typing-extensions>=4.6.1 in /usr/local/lib/python3.10/dist-packages (from pydantic!=1.8,!=1.8.1,<3.0.0,>=1.7.4->spacy) (4.12.2)\n",
            "Requirement already satisfied: charset-normalizer<4,>=2 in /usr/local/lib/python3.10/dist-packages (from requests<3.0.0,>=2.13.0->spacy) (3.4.0)\n",
            "Requirement already satisfied: idna<4,>=2.5 in /usr/local/lib/python3.10/dist-packages (from requests<3.0.0,>=2.13.0->spacy) (3.10)\n",
            "Requirement already satisfied: urllib3<3,>=1.21.1 in /usr/local/lib/python3.10/dist-packages (from requests<3.0.0,>=2.13.0->spacy) (2.2.3)\n",
            "Requirement already satisfied: certifi>=2017.4.17 in /usr/local/lib/python3.10/dist-packages (from requests<3.0.0,>=2.13.0->spacy) (2024.8.30)\n",
            "Requirement already satisfied: blis<0.8.0,>=0.7.8 in /usr/local/lib/python3.10/dist-packages (from thinc<8.3.0,>=8.2.2->spacy) (0.7.11)\n",
            "Requirement already satisfied: confection<1.0.0,>=0.0.1 in /usr/local/lib/python3.10/dist-packages (from thinc<8.3.0,>=8.2.2->spacy) (0.1.5)\n",
            "Requirement already satisfied: filelock in /usr/local/lib/python3.10/dist-packages (from torch>=2.0->camel-tools) (3.16.1)\n",
            "Requirement already satisfied: networkx in /usr/local/lib/python3.10/dist-packages (from torch>=2.0->camel-tools) (3.4.2)\n",
            "Requirement already satisfied: fsspec in /usr/local/lib/python3.10/dist-packages (from torch>=2.0->camel-tools) (2024.10.0)\n",
            "Requirement already satisfied: sympy==1.13.1 in /usr/local/lib/python3.10/dist-packages (from torch>=2.0->camel-tools) (1.13.1)\n",
            "Requirement already satisfied: mpmath<1.4,>=1.1.0 in /usr/local/lib/python3.10/dist-packages (from sympy==1.13.1->torch>=2.0->camel-tools) (1.3.0)\n",
            "Requirement already satisfied: huggingface-hub<1.0,>=0.23.2 in /usr/local/lib/python3.10/dist-packages (from transformers<4.44.0,>=4.0->camel-tools) (0.26.2)\n",
            "Requirement already satisfied: pyyaml>=5.1 in /usr/local/lib/python3.10/dist-packages (from transformers<4.44.0,>=4.0->camel-tools) (6.0.2)\n",
            "Requirement already satisfied: regex!=2019.12.17 in /usr/local/lib/python3.10/dist-packages (from transformers<4.44.0,>=4.0->camel-tools) (2024.9.11)\n",
            "Requirement already satisfied: safetensors>=0.4.1 in /usr/local/lib/python3.10/dist-packages (from transformers<4.44.0,>=4.0->camel-tools) (0.4.5)\n",
            "Collecting tokenizers<0.20,>=0.19 (from transformers<4.44.0,>=4.0->camel-tools)\n",
            "  Downloading tokenizers-0.19.1-cp310-cp310-manylinux_2_17_x86_64.manylinux2014_x86_64.whl.metadata (6.7 kB)\n",
            "Requirement already satisfied: click>=8.0.0 in /usr/local/lib/python3.10/dist-packages (from typer<1.0.0,>=0.3.0->spacy) (8.1.7)\n",
            "Requirement already satisfied: shellingham>=1.3.0 in /usr/local/lib/python3.10/dist-packages (from typer<1.0.0,>=0.3.0->spacy) (1.5.4)\n",
            "Requirement already satisfied: rich>=10.11.0 in /usr/local/lib/python3.10/dist-packages (from typer<1.0.0,>=0.3.0->spacy) (13.9.4)\n",
            "Requirement already satisfied: cloudpathlib<1.0.0,>=0.7.0 in /usr/local/lib/python3.10/dist-packages (from weasel<0.5.0,>=0.1.0->spacy) (0.20.0)\n",
            "Requirement already satisfied: smart-open<8.0.0,>=5.2.1 in /usr/local/lib/python3.10/dist-packages (from weasel<0.5.0,>=0.1.0->spacy) (7.0.5)\n",
            "Requirement already satisfied: MarkupSafe>=2.0 in /usr/local/lib/python3.10/dist-packages (from jinja2->spacy) (3.0.2)\n",
            "Requirement already satisfied: python-dateutil>=2.8.2 in /usr/local/lib/python3.10/dist-packages (from pandas->camel-tools) (2.8.2)\n",
            "Requirement already satisfied: pytz>=2020.1 in /usr/local/lib/python3.10/dist-packages (from pandas->camel-tools) (2024.2)\n",
            "Requirement already satisfied: tzdata>=2022.7 in /usr/local/lib/python3.10/dist-packages (from pandas->camel-tools) (2024.2)\n",
            "Requirement already satisfied: joblib>=1.2.0 in /usr/local/lib/python3.10/dist-packages (from scikit-learn->camel-tools) (1.4.2)\n",
            "Requirement already satisfied: threadpoolctl>=3.1.0 in /usr/local/lib/python3.10/dist-packages (from scikit-learn->camel-tools) (3.5.0)\n",
            "Requirement already satisfied: marisa-trie>=0.7.7 in /usr/local/lib/python3.10/dist-packages (from language-data>=1.2->langcodes<4.0.0,>=3.2.0->spacy) (1.2.1)\n",
            "Requirement already satisfied: markdown-it-py>=2.2.0 in /usr/local/lib/python3.10/dist-packages (from rich>=10.11.0->typer<1.0.0,>=0.3.0->spacy) (3.0.0)\n",
            "Requirement already satisfied: pygments<3.0.0,>=2.13.0 in /usr/local/lib/python3.10/dist-packages (from rich>=10.11.0->typer<1.0.0,>=0.3.0->spacy) (2.18.0)\n",
            "Requirement already satisfied: wrapt in /usr/local/lib/python3.10/dist-packages (from smart-open<8.0.0,>=5.2.1->weasel<0.5.0,>=0.1.0->spacy) (1.16.0)\n",
            "Requirement already satisfied: mdurl~=0.1 in /usr/local/lib/python3.10/dist-packages (from markdown-it-py>=2.2.0->rich>=10.11.0->typer<1.0.0,>=0.3.0->spacy) (0.1.2)\n",
            "Downloading camel_tools-1.5.5-py3-none-any.whl (124 kB)\n",
            "\u001b[2K   \u001b[90m━━━━━━━━━━━━━━━━━━━━━━━━━━━━━━━━━━━━━━━━\u001b[0m \u001b[32m124.5/124.5 kB\u001b[0m \u001b[31m10.9 MB/s\u001b[0m eta \u001b[36m0:00:00\u001b[0m\n",
            "\u001b[?25hDownloading transformers-4.43.4-py3-none-any.whl (9.4 MB)\n",
            "\u001b[2K   \u001b[90m━━━━━━━━━━━━━━━━━━━━━━━━━━━━━━━━━━━━━━━━\u001b[0m \u001b[32m9.4/9.4 MB\u001b[0m \u001b[31m70.8 MB/s\u001b[0m eta \u001b[36m0:00:00\u001b[0m\n",
            "\u001b[?25hDownloading dill-0.3.9-py3-none-any.whl (119 kB)\n",
            "\u001b[2K   \u001b[90m━━━━━━━━━━━━━━━━━━━━━━━━━━━━━━━━━━━━━━━━\u001b[0m \u001b[32m119.4/119.4 kB\u001b[0m \u001b[31m10.1 MB/s\u001b[0m eta \u001b[36m0:00:00\u001b[0m\n",
            "\u001b[?25hDownloading emoji-2.14.0-py3-none-any.whl (586 kB)\n",
            "\u001b[2K   \u001b[90m━━━━━━━━━━━━━━━━━━━━━━━━━━━━━━━━━━━━━━━━\u001b[0m \u001b[32m586.9/586.9 kB\u001b[0m \u001b[31m38.8 MB/s\u001b[0m eta \u001b[36m0:00:00\u001b[0m\n",
            "\u001b[?25hDownloading muddler-0.1.3-py3-none-any.whl (16 kB)\n",
            "Downloading pyrsistent-0.20.0-cp310-cp310-manylinux_2_17_x86_64.manylinux2014_x86_64.whl (117 kB)\n",
            "\u001b[2K   \u001b[90m━━━━━━━━━━━━━━━━━━━━━━━━━━━━━━━━━━━━━━━━\u001b[0m \u001b[32m117.7/117.7 kB\u001b[0m \u001b[31m10.6 MB/s\u001b[0m eta \u001b[36m0:00:00\u001b[0m\n",
            "\u001b[?25hDownloading tokenizers-0.19.1-cp310-cp310-manylinux_2_17_x86_64.manylinux2014_x86_64.whl (3.6 MB)\n",
            "\u001b[2K   \u001b[90m━━━━━━━━━━━━━━━━━━━━━━━━━━━━━━━━━━━━━━━━\u001b[0m \u001b[32m3.6/3.6 MB\u001b[0m \u001b[31m66.7 MB/s\u001b[0m eta \u001b[36m0:00:00\u001b[0m\n",
            "\u001b[?25hBuilding wheels for collected packages: camel-kenlm, docopt\n",
            "  Building wheel for camel-kenlm (pyproject.toml) ... \u001b[?25l\u001b[?25hdone\n",
            "  Created wheel for camel-kenlm: filename=camel_kenlm-2024.5.6-cp310-cp310-linux_x86_64.whl size=3184603 sha256=073ed055c71936300a0d5e047b60cac66e67df25e512228e964bff6e6f43d425\n",
            "  Stored in directory: /root/.cache/pip/wheels/2b/93/ff/ac84dae74c91ffe3e1c344a71f991946eacc79eada61cb703f\n",
            "  Building wheel for docopt (setup.py) ... \u001b[?25l\u001b[?25hdone\n",
            "  Created wheel for docopt: filename=docopt-0.6.2-py2.py3-none-any.whl size=13706 sha256=2886f15895dbc627c808de52bff6117f0669995f32f60d0e593e3ae827a042bd\n",
            "  Stored in directory: /root/.cache/pip/wheels/fc/ab/d4/5da2067ac95b36618c629a5f93f809425700506f72c9732fac\n",
            "Successfully built camel-kenlm docopt\n",
            "Installing collected packages: docopt, camel-kenlm, pyrsistent, muddler, emoji, dill, tokenizers, transformers, camel-tools\n",
            "  Attempting uninstall: tokenizers\n",
            "    Found existing installation: tokenizers 0.20.3\n",
            "    Uninstalling tokenizers-0.20.3:\n",
            "      Successfully uninstalled tokenizers-0.20.3\n",
            "  Attempting uninstall: transformers\n",
            "    Found existing installation: transformers 4.46.2\n",
            "    Uninstalling transformers-4.46.2:\n",
            "      Successfully uninstalled transformers-4.46.2\n",
            "Successfully installed camel-kenlm-2024.5.6 camel-tools-1.5.5 dill-0.3.9 docopt-0.6.2 emoji-2.14.0 muddler-0.1.3 pyrsistent-0.20.0 tokenizers-0.19.1 transformers-4.43.4\n"
          ]
        }
      ],
      "source": [
        "!pip install spacy camel-tools"
      ]
    },
    {
      "cell_type": "code",
      "execution_count": 2,
      "id": "6a5131b1-634c-4323-9f7d-9f8030b504e0",
      "metadata": {
        "colab": {
          "base_uri": "https://localhost:8080/"
        },
        "id": "6a5131b1-634c-4323-9f7d-9f8030b504e0",
        "outputId": "ab6a1e95-2162-4dcf-8cb4-5da55dc602df"
      },
      "outputs": [
        {
          "output_type": "stream",
          "name": "stdout",
          "text": [
            "Collecting stopwords\n",
            "  Downloading stopwords-1.0.1-py2.py3-none-any.whl.metadata (1.9 kB)\n",
            "Downloading stopwords-1.0.1-py2.py3-none-any.whl (37 kB)\n",
            "Installing collected packages: stopwords\n",
            "Successfully installed stopwords-1.0.1\n"
          ]
        }
      ],
      "source": [
        "!pip install stopwords"
      ]
    },
    {
      "cell_type": "code",
      "execution_count": 3,
      "id": "3baf18f6-ee68-4fde-b8c7-2ee335bf34f9",
      "metadata": {
        "colab": {
          "base_uri": "https://localhost:8080/"
        },
        "id": "3baf18f6-ee68-4fde-b8c7-2ee335bf34f9",
        "outputId": "2cf1c3a7-a944-4dac-eb47-860f912f09f1"
      },
      "outputs": [
        {
          "output_type": "stream",
          "name": "stdout",
          "text": [
            "Collecting en-core-web-sm==3.7.1\n",
            "  Downloading https://github.com/explosion/spacy-models/releases/download/en_core_web_sm-3.7.1/en_core_web_sm-3.7.1-py3-none-any.whl (12.8 MB)\n",
            "\u001b[2K     \u001b[90m━━━━━━━━━━━━━━━━━━━━━━━━━━━━━━━━━━━━━━━━\u001b[0m \u001b[32m12.8/12.8 MB\u001b[0m \u001b[31m84.1 MB/s\u001b[0m eta \u001b[36m0:00:00\u001b[0m\n",
            "\u001b[?25hRequirement already satisfied: spacy<3.8.0,>=3.7.2 in /usr/local/lib/python3.10/dist-packages (from en-core-web-sm==3.7.1) (3.7.5)\n",
            "Requirement already satisfied: spacy-legacy<3.1.0,>=3.0.11 in /usr/local/lib/python3.10/dist-packages (from spacy<3.8.0,>=3.7.2->en-core-web-sm==3.7.1) (3.0.12)\n",
            "Requirement already satisfied: spacy-loggers<2.0.0,>=1.0.0 in /usr/local/lib/python3.10/dist-packages (from spacy<3.8.0,>=3.7.2->en-core-web-sm==3.7.1) (1.0.5)\n",
            "Requirement already satisfied: murmurhash<1.1.0,>=0.28.0 in /usr/local/lib/python3.10/dist-packages (from spacy<3.8.0,>=3.7.2->en-core-web-sm==3.7.1) (1.0.10)\n",
            "Requirement already satisfied: cymem<2.1.0,>=2.0.2 in /usr/local/lib/python3.10/dist-packages (from spacy<3.8.0,>=3.7.2->en-core-web-sm==3.7.1) (2.0.8)\n",
            "Requirement already satisfied: preshed<3.1.0,>=3.0.2 in /usr/local/lib/python3.10/dist-packages (from spacy<3.8.0,>=3.7.2->en-core-web-sm==3.7.1) (3.0.9)\n",
            "Requirement already satisfied: thinc<8.3.0,>=8.2.2 in /usr/local/lib/python3.10/dist-packages (from spacy<3.8.0,>=3.7.2->en-core-web-sm==3.7.1) (8.2.5)\n",
            "Requirement already satisfied: wasabi<1.2.0,>=0.9.1 in /usr/local/lib/python3.10/dist-packages (from spacy<3.8.0,>=3.7.2->en-core-web-sm==3.7.1) (1.1.3)\n",
            "Requirement already satisfied: srsly<3.0.0,>=2.4.3 in /usr/local/lib/python3.10/dist-packages (from spacy<3.8.0,>=3.7.2->en-core-web-sm==3.7.1) (2.4.8)\n",
            "Requirement already satisfied: catalogue<2.1.0,>=2.0.6 in /usr/local/lib/python3.10/dist-packages (from spacy<3.8.0,>=3.7.2->en-core-web-sm==3.7.1) (2.0.10)\n",
            "Requirement already satisfied: weasel<0.5.0,>=0.1.0 in /usr/local/lib/python3.10/dist-packages (from spacy<3.8.0,>=3.7.2->en-core-web-sm==3.7.1) (0.4.1)\n",
            "Requirement already satisfied: typer<1.0.0,>=0.3.0 in /usr/local/lib/python3.10/dist-packages (from spacy<3.8.0,>=3.7.2->en-core-web-sm==3.7.1) (0.13.0)\n",
            "Requirement already satisfied: tqdm<5.0.0,>=4.38.0 in /usr/local/lib/python3.10/dist-packages (from spacy<3.8.0,>=3.7.2->en-core-web-sm==3.7.1) (4.66.6)\n",
            "Requirement already satisfied: requests<3.0.0,>=2.13.0 in /usr/local/lib/python3.10/dist-packages (from spacy<3.8.0,>=3.7.2->en-core-web-sm==3.7.1) (2.32.3)\n",
            "Requirement already satisfied: pydantic!=1.8,!=1.8.1,<3.0.0,>=1.7.4 in /usr/local/lib/python3.10/dist-packages (from spacy<3.8.0,>=3.7.2->en-core-web-sm==3.7.1) (2.9.2)\n",
            "Requirement already satisfied: jinja2 in /usr/local/lib/python3.10/dist-packages (from spacy<3.8.0,>=3.7.2->en-core-web-sm==3.7.1) (3.1.4)\n",
            "Requirement already satisfied: setuptools in /usr/local/lib/python3.10/dist-packages (from spacy<3.8.0,>=3.7.2->en-core-web-sm==3.7.1) (75.1.0)\n",
            "Requirement already satisfied: packaging>=20.0 in /usr/local/lib/python3.10/dist-packages (from spacy<3.8.0,>=3.7.2->en-core-web-sm==3.7.1) (24.2)\n",
            "Requirement already satisfied: langcodes<4.0.0,>=3.2.0 in /usr/local/lib/python3.10/dist-packages (from spacy<3.8.0,>=3.7.2->en-core-web-sm==3.7.1) (3.4.1)\n",
            "Requirement already satisfied: numpy>=1.19.0 in /usr/local/lib/python3.10/dist-packages (from spacy<3.8.0,>=3.7.2->en-core-web-sm==3.7.1) (1.26.4)\n",
            "Requirement already satisfied: language-data>=1.2 in /usr/local/lib/python3.10/dist-packages (from langcodes<4.0.0,>=3.2.0->spacy<3.8.0,>=3.7.2->en-core-web-sm==3.7.1) (1.2.0)\n",
            "Requirement already satisfied: annotated-types>=0.6.0 in /usr/local/lib/python3.10/dist-packages (from pydantic!=1.8,!=1.8.1,<3.0.0,>=1.7.4->spacy<3.8.0,>=3.7.2->en-core-web-sm==3.7.1) (0.7.0)\n",
            "Requirement already satisfied: pydantic-core==2.23.4 in /usr/local/lib/python3.10/dist-packages (from pydantic!=1.8,!=1.8.1,<3.0.0,>=1.7.4->spacy<3.8.0,>=3.7.2->en-core-web-sm==3.7.1) (2.23.4)\n",
            "Requirement already satisfied: typing-extensions>=4.6.1 in /usr/local/lib/python3.10/dist-packages (from pydantic!=1.8,!=1.8.1,<3.0.0,>=1.7.4->spacy<3.8.0,>=3.7.2->en-core-web-sm==3.7.1) (4.12.2)\n",
            "Requirement already satisfied: charset-normalizer<4,>=2 in /usr/local/lib/python3.10/dist-packages (from requests<3.0.0,>=2.13.0->spacy<3.8.0,>=3.7.2->en-core-web-sm==3.7.1) (3.4.0)\n",
            "Requirement already satisfied: idna<4,>=2.5 in /usr/local/lib/python3.10/dist-packages (from requests<3.0.0,>=2.13.0->spacy<3.8.0,>=3.7.2->en-core-web-sm==3.7.1) (3.10)\n",
            "Requirement already satisfied: urllib3<3,>=1.21.1 in /usr/local/lib/python3.10/dist-packages (from requests<3.0.0,>=2.13.0->spacy<3.8.0,>=3.7.2->en-core-web-sm==3.7.1) (2.2.3)\n",
            "Requirement already satisfied: certifi>=2017.4.17 in /usr/local/lib/python3.10/dist-packages (from requests<3.0.0,>=2.13.0->spacy<3.8.0,>=3.7.2->en-core-web-sm==3.7.1) (2024.8.30)\n",
            "Requirement already satisfied: blis<0.8.0,>=0.7.8 in /usr/local/lib/python3.10/dist-packages (from thinc<8.3.0,>=8.2.2->spacy<3.8.0,>=3.7.2->en-core-web-sm==3.7.1) (0.7.11)\n",
            "Requirement already satisfied: confection<1.0.0,>=0.0.1 in /usr/local/lib/python3.10/dist-packages (from thinc<8.3.0,>=8.2.2->spacy<3.8.0,>=3.7.2->en-core-web-sm==3.7.1) (0.1.5)\n",
            "Requirement already satisfied: click>=8.0.0 in /usr/local/lib/python3.10/dist-packages (from typer<1.0.0,>=0.3.0->spacy<3.8.0,>=3.7.2->en-core-web-sm==3.7.1) (8.1.7)\n",
            "Requirement already satisfied: shellingham>=1.3.0 in /usr/local/lib/python3.10/dist-packages (from typer<1.0.0,>=0.3.0->spacy<3.8.0,>=3.7.2->en-core-web-sm==3.7.1) (1.5.4)\n",
            "Requirement already satisfied: rich>=10.11.0 in /usr/local/lib/python3.10/dist-packages (from typer<1.0.0,>=0.3.0->spacy<3.8.0,>=3.7.2->en-core-web-sm==3.7.1) (13.9.4)\n",
            "Requirement already satisfied: cloudpathlib<1.0.0,>=0.7.0 in /usr/local/lib/python3.10/dist-packages (from weasel<0.5.0,>=0.1.0->spacy<3.8.0,>=3.7.2->en-core-web-sm==3.7.1) (0.20.0)\n",
            "Requirement already satisfied: smart-open<8.0.0,>=5.2.1 in /usr/local/lib/python3.10/dist-packages (from weasel<0.5.0,>=0.1.0->spacy<3.8.0,>=3.7.2->en-core-web-sm==3.7.1) (7.0.5)\n",
            "Requirement already satisfied: MarkupSafe>=2.0 in /usr/local/lib/python3.10/dist-packages (from jinja2->spacy<3.8.0,>=3.7.2->en-core-web-sm==3.7.1) (3.0.2)\n",
            "Requirement already satisfied: marisa-trie>=0.7.7 in /usr/local/lib/python3.10/dist-packages (from language-data>=1.2->langcodes<4.0.0,>=3.2.0->spacy<3.8.0,>=3.7.2->en-core-web-sm==3.7.1) (1.2.1)\n",
            "Requirement already satisfied: markdown-it-py>=2.2.0 in /usr/local/lib/python3.10/dist-packages (from rich>=10.11.0->typer<1.0.0,>=0.3.0->spacy<3.8.0,>=3.7.2->en-core-web-sm==3.7.1) (3.0.0)\n",
            "Requirement already satisfied: pygments<3.0.0,>=2.13.0 in /usr/local/lib/python3.10/dist-packages (from rich>=10.11.0->typer<1.0.0,>=0.3.0->spacy<3.8.0,>=3.7.2->en-core-web-sm==3.7.1) (2.18.0)\n",
            "Requirement already satisfied: wrapt in /usr/local/lib/python3.10/dist-packages (from smart-open<8.0.0,>=5.2.1->weasel<0.5.0,>=0.1.0->spacy<3.8.0,>=3.7.2->en-core-web-sm==3.7.1) (1.16.0)\n",
            "Requirement already satisfied: mdurl~=0.1 in /usr/local/lib/python3.10/dist-packages (from markdown-it-py>=2.2.0->rich>=10.11.0->typer<1.0.0,>=0.3.0->spacy<3.8.0,>=3.7.2->en-core-web-sm==3.7.1) (0.1.2)\n",
            "\u001b[38;5;2m✔ Download and installation successful\u001b[0m\n",
            "You can now load the package via spacy.load('en_core_web_sm')\n",
            "\u001b[38;5;3m⚠ Restart to reload dependencies\u001b[0m\n",
            "If you are in a Jupyter or Colab notebook, you may need to restart Python in\n",
            "order to load all the package's dependencies. You can do this by selecting the\n",
            "'Restart kernel' or 'Restart runtime' option.\n"
          ]
        }
      ],
      "source": [
        "!python -m spacy download en_core_web_sm"
      ]
    },
    {
      "cell_type": "code",
      "execution_count": 4,
      "id": "106e856f-3a77-442b-ad82-b66d46a45e12",
      "metadata": {
        "id": "106e856f-3a77-442b-ad82-b66d46a45e12"
      },
      "outputs": [],
      "source": [
        "import spacy\n",
        "from camel_tools.tokenizers.word import simple_word_tokenize"
      ]
    },
    {
      "cell_type": "code",
      "execution_count": 5,
      "id": "da4528a2-6760-4cd7-b3f8-93d741f12bb9",
      "metadata": {
        "id": "da4528a2-6760-4cd7-b3f8-93d741f12bb9"
      },
      "outputs": [],
      "source": [
        "nlp_en = spacy.load(\"en_core_web_sm\")"
      ]
    },
    {
      "cell_type": "markdown",
      "id": "03b4593e-76e9-4b70-9323-66cc4e8111d7",
      "metadata": {
        "id": "03b4593e-76e9-4b70-9323-66cc4e8111d7"
      },
      "source": [
        "Tokenization\n"
      ]
    },
    {
      "cell_type": "code",
      "execution_count": 6,
      "id": "5b491abb-0319-498d-aa69-c0fe646a941f",
      "metadata": {
        "id": "5b491abb-0319-498d-aa69-c0fe646a941f"
      },
      "outputs": [],
      "source": [
        "# Function for Tokenization in English using spaCy\n",
        "def tokenize_english(text):\n",
        "    doc = nlp_en(text)\n",
        "    # Extract tokens\n",
        "    return [token.text for token in doc]\n",
        "\n",
        "\n",
        "# Function for Tokenization in Arabic using Camel Tools\n",
        "def tokenize_arabic(text):\n",
        "    # Tokenization using Camel Tools\n",
        "    return simple_word_tokenize(text)"
      ]
    },
    {
      "cell_type": "code",
      "execution_count": 7,
      "id": "c193ee85-d5ae-44d5-8afb-9ab7376e574e",
      "metadata": {
        "id": "c193ee85-d5ae-44d5-8afb-9ab7376e574e"
      },
      "outputs": [],
      "source": [
        "english_text = \"Technology is evolving rapidly. It impacts all aspects of life.\"\n",
        "arabic_text = \".التكنولوجيا تتطور بسرعة. إنها تؤثر على جميع جوانب الحياة\""
      ]
    },
    {
      "cell_type": "code",
      "execution_count": 8,
      "id": "56e3d8dd-be1c-43d8-9821-0b67c607578c",
      "metadata": {
        "id": "56e3d8dd-be1c-43d8-9821-0b67c607578c"
      },
      "outputs": [],
      "source": [
        "english_tokens = tokenize_english(english_text)\n",
        "arabic_tokens = tokenize_arabic(arabic_text)"
      ]
    },
    {
      "cell_type": "code",
      "execution_count": 9,
      "id": "769e1632-e58e-4adf-b726-83987f0f0532",
      "metadata": {
        "colab": {
          "base_uri": "https://localhost:8080/"
        },
        "id": "769e1632-e58e-4adf-b726-83987f0f0532",
        "outputId": "6b408d4c-f437-4abd-babe-c299ad2193e7"
      },
      "outputs": [
        {
          "output_type": "stream",
          "name": "stdout",
          "text": [
            "English text :  Technology is evolving rapidly. It impacts all aspects of life.\n",
            "and its tokens: ['Technology', 'is', 'evolving', 'rapidly', '.', 'It', 'impacts', 'all', 'aspects', 'of', 'life', '.']\n",
            "======================================================================================================================================================\n",
            "Arabic text :  .التكنولوجيا تتطور بسرعة. إنها تؤثر على جميع جوانب الحياة\n",
            "and its tokens: ['.', 'التكنولوجيا', 'تتطور', 'بسرعة', '.', 'إنها', 'تؤثر', 'على', 'جميع', 'جوانب', 'الحياة']\n"
          ]
        }
      ],
      "source": [
        "print (\"English text : \",english_text)\n",
        "print(\"and its tokens:\",english_tokens)\n",
        "print(\"=\"*150)\n",
        "print (\"Arabic text : \",arabic_text)\n",
        "print(\"and its tokens:\",arabic_tokens)"
      ]
    },
    {
      "cell_type": "raw",
      "id": "7785e0d6-5eff-4ff8-8139-ef02009ac246",
      "metadata": {
        "id": "7785e0d6-5eff-4ff8-8139-ef02009ac246"
      },
      "source": [
        "Stopword removal"
      ]
    },
    {
      "cell_type": "code",
      "execution_count": 17,
      "id": "668397c7-66f1-4ec3-b648-968d5123ed30",
      "metadata": {
        "colab": {
          "base_uri": "https://localhost:8080/"
        },
        "id": "668397c7-66f1-4ec3-b648-968d5123ed30",
        "outputId": "5bd8b96a-0601-4c68-c896-c0dfc09c77fc"
      },
      "outputs": [
        {
          "output_type": "stream",
          "name": "stdout",
          "text": [
            "Technology NOUN\n",
            "is AUX\n",
            "evolving VERB\n",
            "rapidly ADV\n",
            ". PUNCT\n",
            "It PRON\n",
            "impacts VERB\n",
            "all DET\n",
            "aspects NOUN\n",
            "of ADP\n",
            "life NOUN\n",
            ". PUNCT\n"
          ]
        }
      ],
      "source": [
        "doc = nlp_en(\" \".join(english_tokens))\n",
        "for token in doc:\n",
        "    print(token.text, token.pos_)"
      ]
    },
    {
      "cell_type": "code",
      "execution_count": 10,
      "id": "61132c24-29bd-4d30-a620-5596a96df0ca",
      "metadata": {
        "colab": {
          "base_uri": "https://localhost:8080/"
        },
        "id": "61132c24-29bd-4d30-a620-5596a96df0ca",
        "outputId": "6d114cd2-e825-4048-cfda-8b0d92f9843f"
      },
      "outputs": [
        {
          "output_type": "stream",
          "name": "stdout",
          "text": [
            " English Stopwords : {'‘s', 'himself', 'though', 'some', 'into', 'from', 'towards', 'across', 'first', 'enough', 'do', 'made', 'one', 'not', 'in', 'thus', 'every', 'further', 'an', 'forty', 'while', 'may', 'i', \"'ll\", 'mine', 'she', 'whom', 'with', 'full', 'n’t', 'all', 'via', 'down', 'quite', 'wherein', 'after', \"'m\", 'or', 'serious', 'their', 'among', 'mostly', 'twenty', 'anything', 'are', 'unless', 'latter', 'fifteen', 'ourselves', 'below', 'perhaps', 'the', 'before', 'me', 'whereby', 'could', 'to', 'take', 'am', 'see', 'both', 'nobody', 'should', 'hereby', 'nor', 'hundred', 'neither', 'whereas', 'namely', 'his', 'much', 'cannot', 'whether', 'few', 'beforehand', 'sometime', 'becomes', 'put', 'name', 'each', 'back', 'next', '‘d', 'amount', 'always', 'seems', \"'ve\", 'you', '‘ve', 'her', 'would', 'most', 'no', 'out', 'eight', 'where', 'none', 'ours', '’m', 'latterly', 'noone', 'nothing', 'seem', 'will', 'show', 'yourselves', 'everyone', 're', 'through', 'same', 'did', 'seeming', 'so', 'anyone', 'otherwise', 'whole', \"'s\", 'became', 'using', 'say', 'elsewhere', 'behind', 'whither', 'about', 'been', 'sixty', 'it', 'due', 'used', 'throughout', 'former', 'therein', 'my', 'per', 'afterwards', 'ca', 'yours', 'can', 'own', 'above', '‘re', 'almost', 'everything', 'between', 'nowhere', 'only', 'ten', 'thru', 'done', 'bottom', 'various', 'any', 'were', 'meanwhile', 'really', 'just', '’s', \"'d\", 'and', 'beyond', 'somewhere', 'together', 'still', 'seemed', 'without', 'already', 'as', 'herself', 'wherever', 'become', 'how', \"'re\", 'anywhere', 'themselves', 'again', 'give', 'hers', 'is', 'often', 'hereafter', 'onto', 'until', 'when', \"n't\", 'myself', 'over', 'does', 'since', 'they', 'sometimes', 'up', 'within', 'doing', 'has', 'twelve', 'fifty', 'thence', 'we', 'whose', 'too', 'part', 'well', 'yourself', '‘ll', 'six', 'at', 'beside', 'therefore', '’ll', 'during', 'had', 'three', 'however', 'indeed', 'else', 'two', 'thereupon', 'five', 'very', 'move', 'anyhow', 'top', 'why', 'nine', 'even', 'yet', 'something', 'our', 'these', 'front', 'now', 'hence', 'empty', 'becoming', 'third', 'either', 'less', 'along', 'also', 'last', 'call', 'being', 'get', 'under', 'be', 'around', 'against', 'us', 'nevertheless', 'because', 'than', 'whereupon', 'this', 'whoever', 'toward', 'another', 'if', 'rather', 'on', 'was', 'for', 'whenever', 'then', 'several', 'have', 'ever', 'those', 'although', 'here', 'besides', '’ve', 'them', 'whereafter', 'more', 'thereafter', 'somehow', 'of', 'keep', 'might', 'amongst', 'someone', 'herein', 'a', 'other', 'but', 'least', 'him', 'that', 'anyway', '’d', 'side', 'such', 'eleven', 'its', 'hereupon', 'which', 'make', 'please', 'whence', 'alone', '‘m', 'moreover', 'off', 'many', '’re', 'once', 'itself', 'he', 'formerly', 'your', 'four', 'whatever', 'never', 'everywhere', 'others', 'n‘t', 'regarding', 'thereby', 'must', 'upon', 'what', 'go', 'there', 'who', 'by', 'except'}\n"
          ]
        }
      ],
      "source": [
        "english_stopwords = nlp_en.Defaults.stop_words\n",
        "print(\" English Stopwords :\",english_stopwords)"
      ]
    },
    {
      "cell_type": "code",
      "execution_count": 11,
      "id": "6cc18265-d854-43c2-a5a8-3789ea29e023",
      "metadata": {
        "colab": {
          "base_uri": "https://localhost:8080/"
        },
        "id": "6cc18265-d854-43c2-a5a8-3789ea29e023",
        "outputId": "f43fa594-2406-4b63-cedc-e560016017ca"
      },
      "outputs": [
        {
          "output_type": "stream",
          "name": "stdout",
          "text": [
            " Arabic Stopwords : ['فى', 'في', 'كل', 'لم', 'لن', 'له', 'من', 'هو', 'هي', 'قوة', 'كما', 'لها', 'منذ', 'وقد', 'ولا', 'لقاء', 'مقابل', 'هناك', 'وقال', 'وكان', 'وقالت', 'وكانت', 'فيه', 'لكن', 'وفي', 'ولم', 'ومن', 'وهو', 'وهي', 'يوم', 'فيها', 'منها', 'يكون', 'يمكن حيث', 'االا', 'اما', 'االتى', 'التي', 'اكثر', 'ايضا', 'الذى', 'الذي', 'الان', 'الذين', 'ابين', 'ذلك', 'دون', 'حول', 'حين', 'الى', 'انه', 'اول', 'انها', 'ف', 'و', 'و6', 'قد', 'لا', 'ما', 'مع', 'هذا', 'واحد', 'واضاف', 'واضافت', 'فان', 'قبل', 'قال', 'كان', 'لدى', 'نحو', 'هذه', 'وان', 'واكد', 'كانت', 'واوضح', 'ب', 'ا', 'أ', '،', 'عن', 'عند', 'عندما', 'على', 'عليه', 'عليها', 'تم', 'ضد', 'بعد', 'بعض', 'حتى', 'اذا', 'احد', 'بان', 'اجل', 'غير', 'بن', 'به', 'ثم', 'اف', 'ان', 'او', 'اي', 'بها']\n"
          ]
        }
      ],
      "source": [
        "from stopwords import get_stopwords\n",
        "\n",
        "# Get Arabic stopwords using stopwords library\n",
        "arabic_stopwords = get_stopwords('ar')\n",
        "\n",
        "print(\" Arabic Stopwords :\",arabic_stopwords)"
      ]
    },
    {
      "cell_type": "code",
      "execution_count": 12,
      "id": "4fcd653c-b757-492b-a8ac-1e9193c1c5bd",
      "metadata": {
        "colab": {
          "base_uri": "https://localhost:8080/"
        },
        "id": "4fcd653c-b757-492b-a8ac-1e9193c1c5bd",
        "outputId": "78993404-6d95-41d6-f16f-50f6abc20195"
      },
      "outputs": [
        {
          "output_type": "stream",
          "name": "stdout",
          "text": [
            "English text :  Technology is evolving rapidly. It impacts all aspects of life.\n",
            "and its tokens: ['Technology', 'is', 'evolving', 'rapidly', '.', 'It', 'impacts', 'all', 'aspects', 'of', 'life', '.']\n",
            "and its tokens after stopword removal: ['Technology', 'evolving', 'rapidly', '.', 'It', 'impacts', 'aspects', 'life', '.']\n",
            "======================================================================================================================================================\n",
            "Arabic text :  .التكنولوجيا تتطور بسرعة. إنها تؤثر على جميع جوانب الحياة\n",
            "and its tokens: ['.', 'التكنولوجيا', 'تتطور', 'بسرعة', '.', 'إنها', 'تؤثر', 'على', 'جميع', 'جوانب', 'الحياة']\n",
            "and its tokens after stopword removal: ['.', 'التكنولوجيا', 'تتطور', 'بسرعة', '.', 'إنها', 'تؤثر', 'جميع', 'جوانب', 'الحياة']\n"
          ]
        }
      ],
      "source": [
        "filtered_en_tokens=[token for token in english_tokens if token not in english_stopwords]  # Remove stopwords\n",
        "\n",
        "filtered_ar_tokens=[token for token in arabic_tokens if token not in arabic_stopwords]  # Remove stopwords\n",
        "\n",
        "print (\"English text : \",english_text)\n",
        "print(\"and its tokens:\",english_tokens)\n",
        "print(\"and its tokens after stopword removal:\",filtered_en_tokens)\n",
        "print(\"=\"*150)\n",
        "print (\"Arabic text : \",arabic_text)\n",
        "print(\"and its tokens:\",arabic_tokens)\n",
        "print(\"and its tokens after stopword removal:\",filtered_ar_tokens)"
      ]
    },
    {
      "cell_type": "markdown",
      "id": "db3082df-4aad-4200-ae43-9b67c24a224d",
      "metadata": {
        "id": "db3082df-4aad-4200-ae43-9b67c24a224d"
      },
      "source": [
        "noise removal"
      ]
    },
    {
      "cell_type": "code",
      "execution_count": 13,
      "id": "dcea4a50-b880-4741-a03e-b5da13fa9a4c",
      "metadata": {
        "id": "dcea4a50-b880-4741-a03e-b5da13fa9a4c"
      },
      "outputs": [],
      "source": [
        "import re"
      ]
    },
    {
      "cell_type": "code",
      "execution_count": 14,
      "id": "d1d62ef2-70f0-4b1f-b2b1-791b4d6b89f6",
      "metadata": {
        "colab": {
          "base_uri": "https://localhost:8080/"
        },
        "id": "d1d62ef2-70f0-4b1f-b2b1-791b4d6b89f6",
        "outputId": "60d4665b-f918-4caf-f20c-c52b7975d14f"
      },
      "outputs": [
        {
          "output_type": "stream",
          "name": "stdout",
          "text": [
            " English Tokens (After Noise Removal): ['Technology', 'evolving', 'rapidly', 'It', 'impacts', 'aspects', 'life']\n",
            " Arabic Tokens (After Noise Removal): ['التكنولوجيا', 'تتطور', 'بسرعة', 'إنها', 'تؤثر', 'جميع', 'جوانب', 'الحياة']\n"
          ]
        }
      ],
      "source": [
        "# Noise Removal for English Tokens\n",
        "cleaned_english_tokens = []\n",
        "for token in filtered_en_tokens:\n",
        "    token = re.sub(r'[^\\w\\s]', '', token)  # Remove special characters and punctuations\n",
        "    # token = re.sub(r'\\d+', '', token)      # Remove numbers\n",
        "    if token.strip():                      # Skip empty tokens\n",
        "        cleaned_english_tokens.append(token)\n",
        "\n",
        "cleaned_arabic_tokens = []\n",
        "for token in filtered_ar_tokens:\n",
        "    token = re.sub(r'[^\\w\\s]', '', token)  # Remove special characters and punctuations\n",
        "    # token = re.sub(r'\\d+', '', token)      # Remove numbers\n",
        "    if token.strip():                      # Skip empty tokens\n",
        "        cleaned_arabic_tokens.append(token)\n",
        "\n",
        "print(\" English Tokens (After Noise Removal):\",cleaned_english_tokens)\n",
        "\n",
        "print(\" Arabic Tokens (After Noise Removal):\",cleaned_arabic_tokens)"
      ]
    },
    {
      "cell_type": "markdown",
      "id": "f854fb8a-af73-420c-96bd-f963aed09351",
      "metadata": {
        "id": "f854fb8a-af73-420c-96bd-f963aed09351"
      },
      "source": [
        "Normalization"
      ]
    },
    {
      "cell_type": "code",
      "execution_count": 15,
      "id": "c7d910ae-7497-4bb1-849f-e6b505c1fa5b",
      "metadata": {
        "colab": {
          "base_uri": "https://localhost:8080/"
        },
        "id": "c7d910ae-7497-4bb1-849f-e6b505c1fa5b",
        "outputId": "becf77de-adf3-4bd8-bcf9-434dedb0c261"
      },
      "outputs": [
        {
          "output_type": "stream",
          "name": "stdout",
          "text": [
            "English tokens after normalization:  ['technology', 'evolving', 'rapidly', 'it', 'impacts', 'aspects', 'life']\n",
            "Arabic tokens after normalization:  ['التكنولوجيا', 'تتطور', 'بسرعة', 'انها', 'تؤثر', 'جميع', 'جوانب', 'الحياة']\n"
          ]
        }
      ],
      "source": [
        "normalized_english_tokens=[token.lower().strip() for token in cleaned_english_tokens]\n",
        "\n",
        "normalized_arabic_tokens = []\n",
        "for token in cleaned_arabic_tokens:\n",
        "    # Unify Alef variants to ا\n",
        "    token = re.sub(r'[إأآا]', 'ا', token)\n",
        "     # Remove diacritics\n",
        "    # token = re.sub(arabic_diacritics, '', token)\n",
        "    # Unify Hamza\n",
        "    token = re.sub(r'ء', '', token)\n",
        "    # Remove Tatweel (ـــ)\n",
        "    token = re.sub(r'ـ', '', token)\n",
        "    # Add the cleaned token to the list\n",
        "    normalized_arabic_tokens.append(token)\n",
        "\n",
        "print(\"English tokens after normalization: \",normalized_english_tokens)\n",
        "print(\"Arabic tokens after normalization: \",normalized_arabic_tokens)"
      ]
    },
    {
      "cell_type": "code",
      "execution_count": 16,
      "id": "7ba51421-4633-4ee6-8ed7-3b448fd1d0e9",
      "metadata": {
        "colab": {
          "base_uri": "https://localhost:8080/"
        },
        "id": "7ba51421-4633-4ee6-8ed7-3b448fd1d0e9",
        "outputId": "a6583dbc-a911-4e58-aebc-d8498125c54f"
      },
      "outputs": [
        {
          "output_type": "stream",
          "name": "stdout",
          "text": [
            "the english text \n",
            "tokens before preprocessing:  ['Technology', 'is', 'evolving', 'rapidly', '.', 'It', 'impacts', 'all', 'aspects', 'of', 'life', '.']\n",
            "tokens after preprocessing:  ['technology', 'evolving', 'rapidly', 'it', 'impacts', 'aspects', 'life']\n",
            "======================================================================================================================================================\n",
            "the arabic text \n",
            "tokens before preprocessing:  ['.', 'التكنولوجيا', 'تتطور', 'بسرعة', '.', 'إنها', 'تؤثر', 'على', 'جميع', 'جوانب', 'الحياة']\n",
            "tokens after preprocessing:  ['التكنولوجيا', 'تتطور', 'بسرعة', 'انها', 'تؤثر', 'جميع', 'جوانب', 'الحياة']\n"
          ]
        }
      ],
      "source": [
        "print(\"the english text \")\n",
        "print(\"tokens before preprocessing: \",english_tokens)\n",
        "print(\"tokens after preprocessing: \",normalized_english_tokens)\n",
        "print(\"=\"*150)\n",
        "print(\"the arabic text \")\n",
        "print(\"tokens before preprocessing: \",arabic_tokens)\n",
        "print(\"tokens after preprocessing: \",normalized_arabic_tokens)"
      ]
    },
    {
      "cell_type": "code",
      "execution_count": 18,
      "id": "d34f3694-61a3-4594-bb08-84cc507e7fef",
      "metadata": {
        "colab": {
          "base_uri": "https://localhost:8080/"
        },
        "id": "d34f3694-61a3-4594-bb08-84cc507e7fef",
        "outputId": "3d3b0fd9-9a92-4d73-a1c0-71966bf81d8a"
      },
      "outputs": [
        {
          "output_type": "stream",
          "name": "stdout",
          "text": [
            "Frequency distribution for English before preprocessing:\n",
            "Counter({'.': 2, 'Technology': 1, 'is': 1, 'evolving': 1, 'rapidly': 1, 'It': 1, 'impacts': 1, 'all': 1, 'aspects': 1, 'of': 1, 'life': 1})\n",
            "Frequency distribution for English after preprocessing:\n",
            "Counter({'technology': 1, 'evolving': 1, 'rapidly': 1, 'it': 1, 'impacts': 1, 'aspects': 1, 'life': 1})\n",
            "======================================================================================================================================================\n",
            "Frequency distribution for Arabic before preprocessing:\n",
            "Counter({'.': 2, 'التكنولوجيا': 1, 'تتطور': 1, 'بسرعة': 1, 'إنها': 1, 'تؤثر': 1, 'على': 1, 'جميع': 1, 'جوانب': 1, 'الحياة': 1})\n",
            "Frequency distribution for Arabic after preprocessing:\n",
            "Counter({'التكنولوجيا': 1, 'تتطور': 1, 'بسرعة': 1, 'انها': 1, 'تؤثر': 1, 'جميع': 1, 'جوانب': 1, 'الحياة': 1})\n"
          ]
        }
      ],
      "source": [
        "from collections import Counter\n",
        "\n",
        "\n",
        "# Create frequency distributions using Counter\n",
        "freq_dist_english_before = Counter(english_tokens)\n",
        "freq_dist_english_after = Counter(normalized_english_tokens)\n",
        "\n",
        "# Print the frequency distributions\n",
        "print(\"Frequency distribution for English before preprocessing:\")\n",
        "print(freq_dist_english_before)\n",
        "\n",
        "print(\"Frequency distribution for English after preprocessing:\")\n",
        "print(freq_dist_english_after)\n",
        "\n",
        "print(\"=\"*150)\n",
        "\n",
        "# Create frequency distributions using Counter\n",
        "freq_dist_arabic_before = Counter(arabic_tokens)\n",
        "freq_dist_arabic_after = Counter(normalized_arabic_tokens)\n",
        "\n",
        "# Print the frequency distributions\n",
        "print(\"Frequency distribution for Arabic before preprocessing:\")\n",
        "print(freq_dist_arabic_before)\n",
        "\n",
        "print(\"Frequency distribution for Arabic after preprocessing:\")\n",
        "print(freq_dist_arabic_after)"
      ]
    },
    {
      "cell_type": "code",
      "execution_count": 26,
      "id": "f51588a8-7159-4d76-b84e-e19660e91a9f",
      "metadata": {
        "colab": {
          "base_uri": "https://localhost:8080/",
          "height": 997
        },
        "id": "f51588a8-7159-4d76-b84e-e19660e91a9f",
        "outputId": "3b48d3df-3fee-4f78-f1a8-d33ba392f628"
      },
      "outputs": [
        {
          "output_type": "display_data",
          "data": {
            "text/plain": [
              "<Figure size 1000x500 with 2 Axes>"
            ],
            "image/png": "[encoded data removed]"
          },
          "metadata": {}
        },
        {
          "output_type": "display_data",
          "data": {
            "text/plain": [
              "<Figure size 1000x500 with 2 Axes>"
            ],
            "image/png": "[encoded data removed]"
          },
          "metadata": {}
        }
      ],
      "source": [
        "import matplotlib.pyplot as plt\n",
        "from collections import Counter\n",
        "\n",
        "# Create frequency distributions using Counter\n",
        "freq_dist_english_before = Counter(english_tokens)\n",
        "freq_dist_english_after = Counter(normalized_english_tokens)\n",
        "\n",
        "# Plot frequency distribution for English tokens before preprocessing\n",
        "plt.figure(figsize=(10, 5))\n",
        "\n",
        "# Subplot 1: Before preprocessing\n",
        "plt.subplot(1, 2, 1)\n",
        "plt.bar(freq_dist_english_before.keys(), freq_dist_english_before.values(), color='skyblue')\n",
        "plt.title('Frequency Distribution Before Preprocessing')\n",
        "plt.xlabel('Tokens')\n",
        "plt.ylabel('Frequency')\n",
        "plt.xticks(rotation=45)\n",
        "\n",
        "# Subplot 2: After preprocessing\n",
        "plt.subplot(1, 2, 2)\n",
        "plt.bar(freq_dist_english_after.keys(), freq_dist_english_after.values(), color='lightcoral')\n",
        "plt.title('Frequency Distribution After Preprocessing')\n",
        "plt.xlabel('Tokens')\n",
        "plt.ylabel('Frequency')\n",
        "plt.xticks(rotation=45)\n",
        "\n",
        "# Adjust layout and show the plot\n",
        "plt.tight_layout()\n",
        "plt.show()\n",
        "\n",
        "\n",
        "# Create frequency distributions using Counter\n",
        "freq_dist_arabic_before = Counter(arabic_tokens)\n",
        "freq_dist_arabic_after = Counter(normalized_arabic_tokens)\n",
        "\n",
        "# Plot frequency distribution for arabic tokens before preprocessing\n",
        "plt.figure(figsize=(10, 5))\n",
        "\n",
        "# Subplot 1: Before preprocessing\n",
        "plt.subplot(1, 2, 1)\n",
        "plt.bar(freq_dist_arabic_before.keys(), freq_dist_arabic_before.values(), color='skyblue')\n",
        "plt.title('Frequency Distribution Before Preprocessing')\n",
        "plt.xlabel('Tokens')\n",
        "plt.ylabel('Frequency')\n",
        "plt.xticks(rotation=45)\n",
        "\n",
        "# Subplot 2: After preprocessing\n",
        "plt.subplot(1, 2, 2)\n",
        "plt.bar(freq_dist_arabic_after.keys(), freq_dist_arabic_after.values(), color='lightcoral')\n",
        "plt.title('Frequency Distribution After Preprocessing')\n",
        "plt.xlabel('Tokens')\n",
        "plt.ylabel('Frequency')\n",
        "plt.xticks(rotation=45)\n",
        "\n",
        "# Adjust layout and show the plot\n",
        "plt.tight_layout()\n",
        "plt.show()\n"
      ]
    },
    {
      "cell_type": "code",
      "source": [],
      "metadata": {
        "id": "PmSecqlTC33Q"
      },
      "id": "PmSecqlTC33Q",
      "execution_count": null,
      "outputs": []
    }
  ],
  "metadata": {
    "kernelspec": {
      "display_name": "Python 3 (ipykernel)",
      "language": "python",
      "name": "python3"
    },
    "language_info": {
      "codemirror_mode": {
        "name": "ipython",
        "version": 3
      },
      "file_extension": ".py",
      "mimetype": "text/x-python",
      "name": "python",
      "nbconvert_exporter": "python",
      "pygments_lexer": "ipython3",
      "version": "3.11.7"
    },
    "colab": {
      "provenance": []
    }
  },
  "nbformat": 4,
  "nbformat_minor": 5
}